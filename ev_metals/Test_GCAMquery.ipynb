{
 "cells": [
  {
   "cell_type": "code",
   "execution_count": 1,
   "metadata": {},
   "outputs": [
    {
     "data": {
      "application/javascript": [
       "\n",
       "            setTimeout(function() {\n",
       "                var nbb_cell_id = 1;\n",
       "                var nbb_unformatted_code = \"from pandas import ExcelWriter\\n\\nimport gcam_reader\\nimport os\\n\\n%load_ext nb_black\";\n",
       "                var nbb_formatted_code = \"from pandas import ExcelWriter\\n\\nimport gcam_reader\\nimport os\\n\\n%load_ext nb_black\";\n",
       "                var nbb_cells = Jupyter.notebook.get_cells();\n",
       "                for (var i = 0; i < nbb_cells.length; ++i) {\n",
       "                    if (nbb_cells[i].input_prompt_number == nbb_cell_id) {\n",
       "                        if (nbb_cells[i].get_text() == nbb_unformatted_code) {\n",
       "                             nbb_cells[i].set_text(nbb_formatted_code);\n",
       "                        }\n",
       "                        break;\n",
       "                    }\n",
       "                }\n",
       "            }, 500);\n",
       "            "
      ],
      "text/plain": [
       "<IPython.core.display.Javascript object>"
      ]
     },
     "metadata": {},
     "output_type": "display_data"
    }
   ],
   "source": [
    "from pandas import ExcelWriter\n",
    "\n",
    "import gcam_reader\n",
    "import os\n",
    "\n",
    "%load_ext nb_black"
   ]
  },
  {
   "cell_type": "code",
   "execution_count": 2,
   "metadata": {},
   "outputs": [
    {
     "data": {
      "text/plain": [
       "'C:\\\\Users\\\\sheep\\\\Codes\\\\Test_files'"
      ]
     },
     "execution_count": 2,
     "metadata": {},
     "output_type": "execute_result"
    },
    {
     "data": {
      "application/javascript": [
       "\n",
       "            setTimeout(function() {\n",
       "                var nbb_cell_id = 2;\n",
       "                var nbb_unformatted_code = \"os.getcwd()\";\n",
       "                var nbb_formatted_code = \"os.getcwd()\";\n",
       "                var nbb_cells = Jupyter.notebook.get_cells();\n",
       "                for (var i = 0; i < nbb_cells.length; ++i) {\n",
       "                    if (nbb_cells[i].input_prompt_number == nbb_cell_id) {\n",
       "                        if (nbb_cells[i].get_text() == nbb_unformatted_code) {\n",
       "                             nbb_cells[i].set_text(nbb_formatted_code);\n",
       "                        }\n",
       "                        break;\n",
       "                    }\n",
       "                }\n",
       "            }, 500);\n",
       "            "
      ],
      "text/plain": [
       "<IPython.core.display.Javascript object>"
      ]
     },
     "metadata": {},
     "output_type": "display_data"
    }
   ],
   "source": [
    "os.getcwd()"
   ]
  },
  {
   "cell_type": "code",
   "execution_count": 3,
   "metadata": {},
   "outputs": [
    {
     "data": {
      "application/javascript": [
       "\n",
       "            setTimeout(function() {\n",
       "                var nbb_cell_id = 3;\n",
       "                var nbb_unformatted_code = \"os.chdir(\\n    r\\\"D:\\\\tencent_files\\\\chrome_Download\\\\Research\\\\Equilibium_modelling\\\\Partial_equilibium\\\\GCAM\\\\gcam-v5.2\\\"\\n)\";\n",
       "                var nbb_formatted_code = \"os.chdir(\\n    r\\\"D:\\\\tencent_files\\\\chrome_Download\\\\Research\\\\Equilibium_modelling\\\\Partial_equilibium\\\\GCAM\\\\gcam-v5.2\\\"\\n)\";\n",
       "                var nbb_cells = Jupyter.notebook.get_cells();\n",
       "                for (var i = 0; i < nbb_cells.length; ++i) {\n",
       "                    if (nbb_cells[i].input_prompt_number == nbb_cell_id) {\n",
       "                        if (nbb_cells[i].get_text() == nbb_unformatted_code) {\n",
       "                             nbb_cells[i].set_text(nbb_formatted_code);\n",
       "                        }\n",
       "                        break;\n",
       "                    }\n",
       "                }\n",
       "            }, 500);\n",
       "            "
      ],
      "text/plain": [
       "<IPython.core.display.Javascript object>"
      ]
     },
     "metadata": {},
     "output_type": "display_data"
    }
   ],
   "source": [
    "os.chdir(\n",
    "    r\"D:\\tencent_files\\chrome_Download\\Research\\Equilibium_modelling\\Partial_equilibium\\GCAM\\gcam-v5.2\"\n",
    ")"
   ]
  },
  {
   "cell_type": "code",
   "execution_count": 4,
   "metadata": {},
   "outputs": [
    {
     "name": "stdout",
     "output_type": "stream",
     "text": [
      "Database scenarios: Reference, 4p5, GCAM_SSP4, GCAM_SSP5, GCAM_SSP1, GCAM_SSP2, GCAM_SSP1\n"
     ]
    },
    {
     "data": {
      "application/javascript": [
       "\n",
       "            setTimeout(function() {\n",
       "                var nbb_cell_id = 4;\n",
       "                var nbb_unformatted_code = \"dbpath = \\\"output\\\"\\ndbfile = \\\"database_basexdb\\\"\\nconn = gcam_reader.LocalDBConn(dbpath, dbfile)\";\n",
       "                var nbb_formatted_code = \"dbpath = \\\"output\\\"\\ndbfile = \\\"database_basexdb\\\"\\nconn = gcam_reader.LocalDBConn(dbpath, dbfile)\";\n",
       "                var nbb_cells = Jupyter.notebook.get_cells();\n",
       "                for (var i = 0; i < nbb_cells.length; ++i) {\n",
       "                    if (nbb_cells[i].input_prompt_number == nbb_cell_id) {\n",
       "                        if (nbb_cells[i].get_text() == nbb_unformatted_code) {\n",
       "                             nbb_cells[i].set_text(nbb_formatted_code);\n",
       "                        }\n",
       "                        break;\n",
       "                    }\n",
       "                }\n",
       "            }, 500);\n",
       "            "
      ],
      "text/plain": [
       "<IPython.core.display.Javascript object>"
      ]
     },
     "metadata": {},
     "output_type": "display_data"
    }
   ],
   "source": [
    "dbpath = \"output\"\n",
    "dbfile = \"database_basexdb\"\n",
    "conn = gcam_reader.LocalDBConn(dbpath, dbfile)"
   ]
  },
  {
   "cell_type": "code",
   "execution_count": 5,
   "metadata": {},
   "outputs": [
    {
     "data": {
      "application/javascript": [
       "\n",
       "            setTimeout(function() {\n",
       "                var nbb_cell_id = 5;\n",
       "                var nbb_unformatted_code = \"queries = gcam_reader.parse_batch_query(os.path.join(dbpath, \\\"China_queries.xml\\\"))\";\n",
       "                var nbb_formatted_code = \"queries = gcam_reader.parse_batch_query(os.path.join(dbpath, \\\"China_queries.xml\\\"))\";\n",
       "                var nbb_cells = Jupyter.notebook.get_cells();\n",
       "                for (var i = 0; i < nbb_cells.length; ++i) {\n",
       "                    if (nbb_cells[i].input_prompt_number == nbb_cell_id) {\n",
       "                        if (nbb_cells[i].get_text() == nbb_unformatted_code) {\n",
       "                             nbb_cells[i].set_text(nbb_formatted_code);\n",
       "                        }\n",
       "                        break;\n",
       "                    }\n",
       "                }\n",
       "            }, 500);\n",
       "            "
      ],
      "text/plain": [
       "<IPython.core.display.Javascript object>"
      ]
     },
     "metadata": {},
     "output_type": "display_data"
    }
   ],
   "source": [
    "queries = gcam_reader.parse_batch_query(os.path.join(dbpath, \"China_queries.xml\"))"
   ]
  },
  {
   "cell_type": "code",
   "execution_count": 6,
   "metadata": {},
   "outputs": [
    {
     "name": "stdout",
     "output_type": "stream",
     "text": [
      "Help on method runQuery in module gcam_reader.querymi:\n",
      "\n",
      "runQuery(query, scenarios=None, regions=None, warn_empty=True) method of gcam_reader.querymi.LocalDBConn instance\n",
      "    Run a query on this connection\n",
      "    \n",
      "    Run the supplied query and return the result a a Pandas data\n",
      "    frame.  This query will generally have been parsed from a GCAM\n",
      "    queries.xml file.  The query can contain a list of regions\n",
      "    parsed from the XML file. If present, query results will be\n",
      "    filtered to this list of regions; otherwise, all regions will\n",
      "    be included.  The regions argument, if present, will override\n",
      "    the region filters parsed from the XML.  Passing an empty list\n",
      "    in this argument will remove the region filter entirely.\n",
      "    \n",
      "    Arguments: \n",
      "      * query: a Query object.\n",
      "      * scenarios: A list of scenarios to include in query results.  If None,\n",
      "        then use the last scenario in the database.\n",
      "      * regions: A list of regions to filter query results to. See description\n",
      "        for what happens if regions is None\n",
      "      * warn_empty: issue a warning to stderr if the query result is empty.\n",
      "\n"
     ]
    },
    {
     "data": {
      "application/javascript": [
       "\n",
       "            setTimeout(function() {\n",
       "                var nbb_cell_id = 6;\n",
       "                var nbb_unformatted_code = \"help(conn.runQuery)\";\n",
       "                var nbb_formatted_code = \"help(conn.runQuery)\";\n",
       "                var nbb_cells = Jupyter.notebook.get_cells();\n",
       "                for (var i = 0; i < nbb_cells.length; ++i) {\n",
       "                    if (nbb_cells[i].input_prompt_number == nbb_cell_id) {\n",
       "                        if (nbb_cells[i].get_text() == nbb_unformatted_code) {\n",
       "                             nbb_cells[i].set_text(nbb_formatted_code);\n",
       "                        }\n",
       "                        break;\n",
       "                    }\n",
       "                }\n",
       "            }, 500);\n",
       "            "
      ],
      "text/plain": [
       "<IPython.core.display.Javascript object>"
      ]
     },
     "metadata": {},
     "output_type": "display_data"
    }
   ],
   "source": [
    "help(conn.runQuery)"
   ]
  },
  {
   "cell_type": "code",
   "execution_count": null,
   "metadata": {},
   "outputs": [],
   "source": [
    "help(gcam_reader.parse_batch_query)"
   ]
  },
  {
   "cell_type": "code",
   "execution_count": 10,
   "metadata": {},
   "outputs": [
    {
     "data": {
      "text/plain": [
       "['primary energy consumption by region (avg fossil efficiency)',\n",
       " 'primary energy consumption by region (direct equivalent)',\n",
       " 'primary energy consumption with CCS by region (direct equivalent)',\n",
       " 'resource production',\n",
       " 'resource production by tech and vintage',\n",
       " 'resource supply curves',\n",
       " 'regional primary energy prices',\n",
       " 'elec gen by region (incl CHP)',\n",
       " 'elec gen by subsector',\n",
       " 'elec gen by gen tech',\n",
       " 'elec gen by gen tech and cooling tech',\n",
       " 'elec gen by gen tech and cooling tech and vintage',\n",
       " 'elec gen by gen tech and cooling tech (new)',\n",
       " 'elec energy input by subsector',\n",
       " 'elec energy input by elec gen tech',\n",
       " 'elec energy input by elec gen tech and cooling tech',\n",
       " 'elec prices by sector',\n",
       " 'elec gen costs by subsector',\n",
       " 'elec gen costs by tech',\n",
       " 'elec gen costs by cooling tech',\n",
       " 'elec share-weights by subsector',\n",
       " 'elec share-weights by tech',\n",
       " 'elec share-weights by cooling tech',\n",
       " 'elec td inputs and outputs',\n",
       " 'cogeneration by region',\n",
       " 'elec consumption by demand sector',\n",
       " 'elec sector water withdrawals',\n",
       " 'elec sector water consumption',\n",
       " 'elec water withdrawals by gen tech',\n",
       " 'elec water consumption by gen tech',\n",
       " 'elec water withdrawals by gen tech and cooling tech',\n",
       " 'elec water consumption by gen tech and cooling tech',\n",
       " 'elec water withdrawals by gen tech and cooling tech (new)',\n",
       " 'elec water consumption by gen tech and cooling tech (new)',\n",
       " 'refined liquids production by region',\n",
       " 'refined liquids production by subsector',\n",
       " 'refined liquids production by tech',\n",
       " 'refined liquids production by tech and vintage',\n",
       " 'refined liquids production by tech (new)',\n",
       " 'refinery inputs by tech (energy and feedstocks)',\n",
       " 'refined liquids prices by sector',\n",
       " 'refined liquids costs by subsector',\n",
       " 'refined liquids costs by tech',\n",
       " 'refining and oil share-weights by subsector',\n",
       " 'refining share-weights by tech',\n",
       " 'hydrogen production by tech',\n",
       " 'hydrogen inputs by tech (feedstocks and energy)',\n",
       " 'hydrogen prices by sector',\n",
       " 'hydrogen production costs by tech',\n",
       " 'gas production by tech',\n",
       " 'gas production share-weights by subsector',\n",
       " 'gas inputs by tech (energy and feedstocks)',\n",
       " 'gas pipeline inputs and outputs',\n",
       " 'gas prices by sector',\n",
       " 'gas costs by tech',\n",
       " 'gas consumption by sector',\n",
       " 'district heat production by subsector (fuel)',\n",
       " 'district heat energy inputs by subsector',\n",
       " 'total final energy by region',\n",
       " 'total final energy by aggregate sector',\n",
       " 'total final energy by sector',\n",
       " 'final energy consumption by fuel',\n",
       " 'final energy consumption by sector and fuel',\n",
       " 'final energy prices',\n",
       " 'building floorspace',\n",
       " 'building floorspace per capita',\n",
       " 'building total final energy by region',\n",
       " 'building total final energy by service',\n",
       " 'building final energy by fuel',\n",
       " 'building final energy by service and fuel',\n",
       " 'building final energy by subsector',\n",
       " 'building final energy by tech',\n",
       " 'building final energy by tech and vintage',\n",
       " 'building final energy by tech (new)',\n",
       " 'building service output by service',\n",
       " 'building service output by subsector',\n",
       " 'building service output by tech',\n",
       " 'building service output by tech and vintage',\n",
       " 'building service output by tech (new)',\n",
       " 'building internal gain energy by service',\n",
       " 'total service cost per unit floorspace',\n",
       " 'building service costs',\n",
       " 'fuel prices to buildings',\n",
       " 'building share-weights by subsector',\n",
       " 'building share-weights by tech',\n",
       " 'industry total final energy by region',\n",
       " 'industry total final energy by service',\n",
       " 'industry final energy by fuel',\n",
       " 'industry final energy by service and fuel',\n",
       " 'industry final energy by tech and fuel',\n",
       " 'industry feedstocks by type',\n",
       " 'industry primary output by sector',\n",
       " 'industry cogeneration by fuel',\n",
       " 'fuel prices to industry',\n",
       " 'industry share-weights by subsector',\n",
       " 'industry water withdrawals and consumption',\n",
       " 'cement production by region',\n",
       " 'cement production by tech (conv and ccs)',\n",
       " 'inputs to cement production',\n",
       " 'cement prices',\n",
       " 'fertilizer production by region',\n",
       " 'fertilizer production by tech',\n",
       " 'fertilizer inputs by tech (energy and feedstocks)',\n",
       " 'fertilizer prices',\n",
       " 'transport total final energy by region',\n",
       " 'transport total final energy by service',\n",
       " 'transport final energy by fuel',\n",
       " 'transport final energy by mode and fuel',\n",
       " 'transport final energy by tech and fuel',\n",
       " 'transport final energy by tech and vintage',\n",
       " 'transport final energy by tech (new)',\n",
       " 'transport service output by service',\n",
       " 'transport service output by mode',\n",
       " 'transport service output by tech',\n",
       " 'transport service output by tech and vintage',\n",
       " 'transport service output by tech (new)',\n",
       " 'transport load factors',\n",
       " 'fuel prices to transport',\n",
       " 'costs of transport services',\n",
       " 'costs of transport modes',\n",
       " 'costs of transport techs',\n",
       " 'transport tech non-energy cost',\n",
       " 'transport subsector share-weights',\n",
       " 'transport tech share-weights',\n",
       " 'transport speeds',\n",
       " 'detailed land allocation',\n",
       " 'land allocation by crop',\n",
       " 'aggregated land allocation',\n",
       " 'land allocation by crop and water source',\n",
       " 'LUC emissions by region',\n",
       " 'LUC emissions by LUT',\n",
       " 'vegetative carbon stock by region',\n",
       " 'profit rate',\n",
       " 'land leaf shares',\n",
       " 'ag production by crop type',\n",
       " 'ag production by subsector (land use region)',\n",
       " 'ag production by tech',\n",
       " 'ag tech variable cost',\n",
       " 'ag tech yield',\n",
       " 'ag commodity prices',\n",
       " 'irrigation water withdrawals by region',\n",
       " 'irrigation water withdrawals by crop type',\n",
       " 'irrigation water withdrawals by crop type and land region',\n",
       " 'irrigation water withdrawals by ag tech',\n",
       " 'irrigation water consumption by region',\n",
       " 'irrigation water consumption by crop type',\n",
       " 'irrigation water consumption by crop type and land region',\n",
       " 'irrigation water consumption by ag tech',\n",
       " 'biophysical water demand by region',\n",
       " 'biophysical water demand by crop type',\n",
       " 'biophysical water demand by crop type and land region',\n",
       " 'biophysical water demand by ag tech',\n",
       " 'fertilizer consumption by region',\n",
       " 'fertilizer consumption by crop type',\n",
       " 'fertilizer consumption by ag tech',\n",
       " 'fertilizer-crop input-output coefficients',\n",
       " 'purpose-grown biomass production',\n",
       " 'residue biomass production',\n",
       " 'regional biomass consumption',\n",
       " 'meat and dairy production by type',\n",
       " 'meat and dairy production by tech',\n",
       " 'meat and dairy prices',\n",
       " 'meat and dairy subsector share-weights',\n",
       " 'meat and dairy tech share-weights',\n",
       " 'meat and dairy subsector costs',\n",
       " 'meat and dairy tech costs',\n",
       " 'water consumption by meat and dairy production',\n",
       " 'feed consumption by region',\n",
       " 'feed consumption by meat and dairy tech',\n",
       " 'feed sources',\n",
       " 'feed prices',\n",
       " 'feed subsector share-weights',\n",
       " 'food consumption by type (general)',\n",
       " 'food consumption by type (specific)',\n",
       " 'demand balances by crop commodity',\n",
       " 'demand balances by meat and dairy commodity',\n",
       " 'CO2 emissions by region',\n",
       " 'CO2 emissions by sector',\n",
       " 'CO2 emissions by sector (no bio)',\n",
       " 'CO2 emissions by assigned sector (no bio)',\n",
       " 'CO2 emissions by subsector',\n",
       " 'CO2 emissions by tech',\n",
       " 'CO2 sequestration by sector',\n",
       " 'CO2 sequestration by tech',\n",
       " 'nonCO2 emissions by region',\n",
       " 'nonCO2 emissions by sector',\n",
       " 'nonCO2 emissions by resource production',\n",
       " 'nonCO2 emissions by subsector',\n",
       " 'nonCO2 emissions by tech',\n",
       " 'specific nonCO2 emissions by region',\n",
       " 'specific nonCO2 emissions by sector',\n",
       " 'specific nonCO2 emissions by resource production',\n",
       " 'specific nonCO2 emissions by subsector',\n",
       " 'specific nonCO2 emissions by tech',\n",
       " 'population by region',\n",
       " 'GDP MER by region',\n",
       " 'GDP per capita MER by region',\n",
       " 'GDP per capita PPP by region',\n",
       " 'water withdrawals by region',\n",
       " 'water withdrawals by water mapping source',\n",
       " 'water withdrawals by sector',\n",
       " 'water withdrawals by subsector',\n",
       " 'water withdrawals by tech',\n",
       " 'water consumption by region',\n",
       " 'water consumption by water mapping source',\n",
       " 'water consumption by sector',\n",
       " 'water consumption by subsector',\n",
       " 'water consumption by tech',\n",
       " 'prices by sector',\n",
       " 'costs by subsector',\n",
       " 'costs by tech',\n",
       " 'costs by tech and input',\n",
       " 'inputs by sector',\n",
       " 'inputs by subsector',\n",
       " 'inputs by tech',\n",
       " 'outputs by sector',\n",
       " 'outputs by subsector',\n",
       " 'outputs by tech',\n",
       " 'total final energy by aggregate sector',\n",
       " 'Industry feedstocks (liquids only)']"
      ]
     },
     "execution_count": 10,
     "metadata": {},
     "output_type": "execute_result"
    },
    {
     "data": {
      "application/javascript": [
       "\n",
       "            setTimeout(function() {\n",
       "                var nbb_cell_id = 10;\n",
       "                var nbb_unformatted_code = \"[q.title for q in queries]\";\n",
       "                var nbb_formatted_code = \"[q.title for q in queries]\";\n",
       "                var nbb_cells = Jupyter.notebook.get_cells();\n",
       "                for (var i = 0; i < nbb_cells.length; ++i) {\n",
       "                    if (nbb_cells[i].input_prompt_number == nbb_cell_id) {\n",
       "                        if (nbb_cells[i].get_text() == nbb_unformatted_code) {\n",
       "                             nbb_cells[i].set_text(nbb_formatted_code);\n",
       "                        }\n",
       "                        break;\n",
       "                    }\n",
       "                }\n",
       "            }, 500);\n",
       "            "
      ],
      "text/plain": [
       "<IPython.core.display.Javascript object>"
      ]
     },
     "metadata": {},
     "output_type": "display_data"
    }
   ],
   "source": [
    "[q.title for q in queries]"
   ]
  },
  {
   "cell_type": "code",
   "execution_count": 9,
   "metadata": {},
   "outputs": [
    {
     "data": {
      "text/plain": [
       "'primary energy consumption by region (avg fossil efficiency)'"
      ]
     },
     "execution_count": 9,
     "metadata": {},
     "output_type": "execute_result"
    },
    {
     "data": {
      "application/javascript": [
       "\n",
       "            setTimeout(function() {\n",
       "                var nbb_cell_id = 9;\n",
       "                var nbb_unformatted_code = \"queries[0].title\";\n",
       "                var nbb_formatted_code = \"queries[0].title\";\n",
       "                var nbb_cells = Jupyter.notebook.get_cells();\n",
       "                for (var i = 0; i < nbb_cells.length; ++i) {\n",
       "                    if (nbb_cells[i].input_prompt_number == nbb_cell_id) {\n",
       "                        if (nbb_cells[i].get_text() == nbb_unformatted_code) {\n",
       "                             nbb_cells[i].set_text(nbb_formatted_code);\n",
       "                        }\n",
       "                        break;\n",
       "                    }\n",
       "                }\n",
       "            }, 500);\n",
       "            "
      ],
      "text/plain": [
       "<IPython.core.display.Javascript object>"
      ]
     },
     "metadata": {},
     "output_type": "display_data"
    }
   ],
   "source": [
    "queries[0].title"
   ]
  },
  {
   "cell_type": "code",
   "execution_count": null,
   "metadata": {},
   "outputs": [],
   "source": [
    "os.getcwd()"
   ]
  },
  {
   "cell_type": "code",
   "execution_count": 8,
   "metadata": {},
   "outputs": [
    {
     "name": "stderr",
     "output_type": "stream",
     "text": [
      "D:\\Users\\sheep\\anaconda3\\lib\\site-packages\\xlsxwriter\\workbook.py:329: UserWarning: Calling close() on already closed file.\n",
      "  warn(\"Calling close() on already closed file.\")\n"
     ]
    },
    {
     "data": {
      "application/javascript": [
       "\n",
       "            setTimeout(function() {\n",
       "                var nbb_cell_id = 8;\n",
       "                var nbb_unformatted_code = \"with ExcelWriter(\\\"test_China.xlsx\\\") as writer:\\n    for i in queries[:3]:\\n        query_df = conn.runQuery(i, [\\\"GCAM_SSP1\\\"])\\n        query_df.to_excel(\\n            writer, sheet_name=i.title[:30]\\n        )  # Excel worksheet name must be <=31 characters\\n    writer.save()\";\n",
       "                var nbb_formatted_code = \"with ExcelWriter(\\\"test_China.xlsx\\\") as writer:\\n    for i in queries[:3]:\\n        query_df = conn.runQuery(i, [\\\"GCAM_SSP1\\\"])\\n        query_df.to_excel(\\n            writer, sheet_name=i.title[:30]\\n        )  # Excel worksheet name must be <=31 characters\\n    writer.save()\";\n",
       "                var nbb_cells = Jupyter.notebook.get_cells();\n",
       "                for (var i = 0; i < nbb_cells.length; ++i) {\n",
       "                    if (nbb_cells[i].input_prompt_number == nbb_cell_id) {\n",
       "                        if (nbb_cells[i].get_text() == nbb_unformatted_code) {\n",
       "                             nbb_cells[i].set_text(nbb_formatted_code);\n",
       "                        }\n",
       "                        break;\n",
       "                    }\n",
       "                }\n",
       "            }, 500);\n",
       "            "
      ],
      "text/plain": [
       "<IPython.core.display.Javascript object>"
      ]
     },
     "metadata": {},
     "output_type": "display_data"
    }
   ],
   "source": [
    "with ExcelWriter(\"test_China.xlsx\") as writer:\n",
    "    for i in queries[:3]:\n",
    "        query_df = conn.runQuery(i, [\"GCAM_SSP1\"])\n",
    "        query_df.to_excel(\n",
    "            writer, sheet_name=i.title[:30]\n",
    "        )  # Excel worksheet name must be <=31 characters\n",
    "writer.save()"
   ]
  }
 ],
 "metadata": {
  "kernelspec": {
   "display_name": "base",
   "language": "python",
   "name": "base"
  },
  "language_info": {
   "codemirror_mode": {
    "name": "ipython",
    "version": 3
   },
   "file_extension": ".py",
   "mimetype": "text/x-python",
   "name": "python",
   "nbconvert_exporter": "python",
   "pygments_lexer": "ipython3",
   "version": "3.7.3"
  },
  "toc": {
   "base_numbering": 1,
   "nav_menu": {},
   "number_sections": true,
   "sideBar": true,
   "skip_h1_title": false,
   "title_cell": "Table of Contents",
   "title_sidebar": "Contents",
   "toc_cell": false,
   "toc_position": {},
   "toc_section_display": true,
   "toc_window_display": false
  }
 },
 "nbformat": 4,
 "nbformat_minor": 4
}
